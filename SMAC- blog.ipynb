{
 "cells": [
  {
   "cell_type": "code",
   "execution_count": 13,
   "metadata": {},
   "outputs": [],
   "source": [
    "from sklearn import datasets\n",
    "from sklearn.svm import SVC\n",
    "from sklearn.model_selection import cross_val_score\n",
    "from sklearn.preprocessing import StandardScaler\n",
    "from sklearn.ensemble  import RandomForestClassifier\n",
    "import numpy as np\n",
    "import warnings\n",
    "warnings.filterwarnings(\"ignore\")\n",
    "from smac.configspace import ConfigurationSpace\n",
    "from ConfigSpace.hyperparameters import CategoricalHyperparameter,\n",
    "                                        UniformFloatHyperparameter, \n",
    "                                        UniformIntegerHyperparameter\n",
    "from ConfigSpace.conditions import InCondition\n",
    "from smac.scenario.scenario import Scenario\n",
    "from smac.facade.smac_hpo_facade import SMAC4HPO\n",
    "from smac.runhistory import runhistory2epm, runhistory\n"
   ]
  },
  {
   "cell_type": "code",
   "execution_count": 6,
   "metadata": {},
   "outputs": [
    {
     "data": {
      "text/plain": [
       "max_features | alg_name in {'RF'}"
      ]
     },
     "execution_count": 6,
     "metadata": {},
     "output_type": "execute_result"
    }
   ],
   "source": [
    "##Create SMAC's search space\n",
    "cs = ConfigurationSpace()       \n",
    "alg_name = CategoricalHyperparameter(\"alg_name\", [\"SVM\", \"RF\"], default_value=\"SVM\")\n",
    "cs.add_hyperparameter(alg_name)  \n",
    "##Search Space for Classifier: SVM\n",
    "kernel = CategoricalHyperparameter(\"kernel\", [\"linear\", \"rbf\", \"poly\", \"sigmoid\"], default_value=\"linear\")\n",
    "C = UniformFloatHyperparameter(\"C\", 1e-2, 100, default_value=1.0)\n",
    "degree = UniformIntegerHyperparameter(\"degree\", 2, 50, default_value=3)     # Only used by kernel poly\n",
    "coef0 = UniformFloatHyperparameter(\"coef0\", 0.0, 10.0, default_value=0.0)  # poly, sigmoid\n",
    "use_degree = InCondition(child=degree, parent=kernel, values=[\"poly\"])\n",
    "use_coef0 = InCondition(child=coef0, parent=kernel, values=[\"poly\", \"sigmoid\"])\n",
    "gamma = UniformFloatHyperparameter(\"gamma\", 0, 20, default_value=1)\n",
    "##add hyperparameters into search space\n",
    "cs.add_hyperparameters([kernel, C,coef0, degree, gamma])\n",
    "cs.add_conditions([use_degree, use_coef0])\n",
    "cs.add_condition(InCondition(child=gamma, parent=kernel, values=[\"rbf\", \"poly\", \"sigmoid\"]))\n",
    "cs.add_condition(InCondition(child=kernel, parent=alg_name, values=['SVM']))\n",
    "cs.add_condition(InCondition(child=C, parent=alg_name, values=['SVM']))    \n",
    "##Search Space for Classifier: SVM\n",
    "\n",
    "n_estimators = UniformIntegerHyperparameter(\"n_estimators\", 5, 100, default_value=10)\n",
    "criterion = CategoricalHyperparameter(\"criterion\", [\"gini\", \"entropy\"], default_value=\"gini\")\n",
    "max_depth = UniformIntegerHyperparameter(\"max_depth\", 10, 200, default_value=10)\n",
    "max_features = CategoricalHyperparameter(\"max_features\", ['auto', 'sqrt','log2','none'], default_value=\"auto\")\n",
    "cs.add_hyperparameters([n_estimators,criterion,max_depth, max_features])\n",
    "cs.add_condition(InCondition(child=n_estimators, parent=alg_name, values=[\"RF\"]))\n",
    "cs.add_condition(InCondition(child=criterion, parent=alg_name, values=[\"RF\"]))\n",
    "cs.add_condition(InCondition(child=max_depth, parent=alg_name, values=[\"RF\"]))\n",
    "cs.add_condition(InCondition(child=max_features, parent=alg_name, values=[\"RF\"]))\n"
   ]
  },
  {
   "cell_type": "code",
   "execution_count": 7,
   "metadata": {},
   "outputs": [
    {
     "data": {
      "text/plain": [
       "Configuration space object:\n",
       "  Hyperparameters:\n",
       "    C, Type: UniformFloat, Range: [0.01, 100.0], Default: 1.0\n",
       "    alg_name, Type: Categorical, Choices: {SVM, RF}, Default: SVM\n",
       "    coef0, Type: UniformFloat, Range: [0.0, 10.0], Default: 0.0\n",
       "    criterion, Type: Categorical, Choices: {gini, entropy}, Default: gini\n",
       "    degree, Type: UniformInteger, Range: [2, 50], Default: 3\n",
       "    gamma, Type: UniformFloat, Range: [0.0, 20.0], Default: 1.0\n",
       "    kernel, Type: Categorical, Choices: {linear, rbf, poly, sigmoid}, Default: linear\n",
       "    max_depth, Type: UniformInteger, Range: [10, 200], Default: 10\n",
       "    max_features, Type: Categorical, Choices: {auto, sqrt, log2, none}, Default: auto\n",
       "    n_estimators, Type: UniformInteger, Range: [5, 100], Default: 10\n",
       "  Conditions:\n",
       "    C | alg_name in {'SVM'}\n",
       "    coef0 | kernel in {'poly', 'sigmoid'}\n",
       "    criterion | alg_name in {'RF'}\n",
       "    degree | kernel in {'poly'}\n",
       "    gamma | kernel in {'rbf', 'poly', 'sigmoid'}\n",
       "    kernel | alg_name in {'SVM'}\n",
       "    max_depth | alg_name in {'RF'}\n",
       "    max_features | alg_name in {'RF'}\n",
       "    n_estimators | alg_name in {'RF'}"
      ]
     },
     "execution_count": 7,
     "metadata": {},
     "output_type": "execute_result"
    }
   ],
   "source": [
    "cs"
   ]
  },
  {
   "cell_type": "code",
   "execution_count": 19,
   "metadata": {},
   "outputs": [],
   "source": [
    "iris = datasets.load_iris()\n",
    "X = iris.data\n",
    "y = iris.target\n",
    "\n",
    "def obj_func(params):\n",
    "    params = {k : params[k] for k in params if params[k]}\n",
    "    classifier = params['alg_name']\n",
    "    params.pop(\"alg_name\", None)    \n",
    "    clf = SVC()\n",
    "    if(classifier == 'SVM'):\n",
    "        clf = SVC(**params)\n",
    "    elif(classifier == 'RF'):\n",
    "        clf = RandomForestClassifier(**params)\n",
    "    mean= cross_val_score(clf, X, y).mean()\n",
    "    loss = 1 - mean\n",
    "    #print (mean)\n",
    "    return loss"
   ]
  },
  {
   "cell_type": "code",
   "execution_count": 20,
   "metadata": {},
   "outputs": [
    {
     "name": "stderr",
     "output_type": "stream",
     "text": [
      "INFO:smac.utils.io.cmd_reader.CMDReader:Output to ./SMAC_blog_log/\n",
      "INFO:smac.initial_design.default_configuration_design.DefaultConfiguration:Running initial design for 1 configurations\n",
      "INFO:smac.facade.smac_hpo_facade.SMAC4HPO:<class 'smac.facade.smac_hpo_facade.SMAC4HPO'>\n",
      "INFO:smac.optimizer.smbo.SMBO:Running initial design\n",
      "INFO:smac.intensification.intensification.Intensifier:First run, no incumbent provided; challenger is assumed to be the incumbent\n",
      "INFO:smac.intensification.intensification.Intensifier:Updated estimated cost of incumbent on 1 runs: 0.0200\n",
      "INFO:smac.intensification.intensification.Intensifier:Updated estimated cost of incumbent on 2 runs: 0.0200\n",
      "INFO:smac.intensification.intensification.Intensifier:Wallclock time limit for intensification reached (used: 0.463638 sec, available: 0.000010 sec)\n",
      "INFO:smac.intensification.intensification.Intensifier:Updated estimated cost of incumbent on 3 runs: 0.0200\n",
      "INFO:smac.intensification.intensification.Intensifier:Wallclock time limit for intensification reached (used: 0.132016 sec, available: 0.000010 sec)\n",
      "INFO:smac.intensification.intensification.Intensifier:Updated estimated cost of incumbent on 4 runs: 0.0200\n",
      "INFO:smac.intensification.intensification.Intensifier:Wallclock time limit for intensification reached (used: 0.140600 sec, available: 0.000010 sec)\n",
      "INFO:smac.intensification.intensification.Intensifier:Updated estimated cost of incumbent on 5 runs: 0.0200\n",
      "INFO:smac.intensification.intensification.Intensifier:Wallclock time limit for intensification reached (used: 0.131711 sec, available: 0.000010 sec)\n",
      "INFO:smac.intensification.intensification.Intensifier:Updated estimated cost of incumbent on 6 runs: 0.0200\n",
      "INFO:smac.intensification.intensification.Intensifier:Wallclock time limit for intensification reached (used: 0.135602 sec, available: 0.000010 sec)\n",
      "INFO:smac.intensification.intensification.Intensifier:Updated estimated cost of incumbent on 7 runs: 0.0200\n",
      "INFO:smac.intensification.intensification.Intensifier:Wallclock time limit for intensification reached (used: 0.137698 sec, available: 0.000010 sec)\n",
      "INFO:smac.intensification.intensification.Intensifier:Updated estimated cost of incumbent on 8 runs: 0.0200\n",
      "INFO:smac.intensification.intensification.Intensifier:Wallclock time limit for intensification reached (used: 0.581213 sec, available: 0.000010 sec)\n",
      "INFO:smac.intensification.intensification.Intensifier:Updated estimated cost of incumbent on 9 runs: 0.0200\n",
      "INFO:smac.intensification.intensification.Intensifier:Wallclock time limit for intensification reached (used: 0.669066 sec, available: 0.000010 sec)\n",
      "INFO:smac.intensification.intensification.Intensifier:Updated estimated cost of incumbent on 10 runs: 0.0200\n",
      "INFO:smac.intensification.intensification.Intensifier:Wallclock time limit for intensification reached (used: 0.143990 sec, available: 0.000010 sec)\n",
      "INFO:smac.intensification.intensification.Intensifier:Updated estimated cost of incumbent on 11 runs: 0.0200\n",
      "INFO:smac.intensification.intensification.Intensifier:Wallclock time limit for intensification reached (used: 0.136421 sec, available: 0.000010 sec)\n",
      "INFO:smac.intensification.intensification.Intensifier:Updated estimated cost of incumbent on 12 runs: 0.0200\n",
      "INFO:smac.intensification.intensification.Intensifier:Wallclock time limit for intensification reached (used: 0.850770 sec, available: 0.000010 sec)\n",
      "INFO:smac.intensification.intensification.Intensifier:Updated estimated cost of incumbent on 13 runs: 0.0200\n",
      "INFO:smac.stats.stats.Stats:##########################################################\n",
      "INFO:smac.stats.stats.Stats:Statistics:\n",
      "INFO:smac.stats.stats.Stats:#Incumbent changed: 0\n",
      "INFO:smac.stats.stats.Stats:#Target algorithm runs: 50 / 50.0\n",
      "INFO:smac.stats.stats.Stats:#Configurations: 12\n",
      "INFO:smac.stats.stats.Stats:Used wallclock time: 13.14 / inf sec \n",
      "INFO:smac.stats.stats.Stats:Used target algorithm runtime: 2.19 / inf sec\n",
      "INFO:smac.stats.stats.Stats:##########################################################\n",
      "INFO:smac.facade.smac_hpo_facade.SMAC4HPO:Final Incumbent: Configuration:\n",
      "  C, Value: 1.0\n",
      "  alg_name, Value: 'SVM'\n",
      "  kernel, Value: 'linear'\n",
      "\n",
      "INFO:smac.facade.smac_hpo_facade.SMAC4HPO:Estimated cost of incumbent: 0.020000\n"
     ]
    }
   ],
   "source": [
    "output_dir='./SMAC_blog_log/'\n",
    "scenario = Scenario({\"run_obj\": \"quality\",   # we optimize quality (alternatively runtime)\n",
    "                     \"runcount-limit\": 50,  # maximum function evaluations\n",
    "                     \"cs\": cs,               # configuration space\n",
    "                     \"output_dir\":output_dir,\n",
    "                     \"deterministic\": \"false\"\n",
    "                    })\n",
    "smac = SMAC4HPO(scenario=scenario,rng=np.random.RandomState(1),tae_runner=obj_func)\n",
    "incumbent = smac.optimize()"
   ]
  },
  {
   "cell_type": "code",
   "execution_count": 21,
   "metadata": {},
   "outputs": [
    {
     "data": {
      "text/plain": [
       "Configuration:\n",
       "  C, Value: 1.0\n",
       "  alg_name, Value: 'SVM'\n",
       "  kernel, Value: 'linear'"
      ]
     },
     "execution_count": 21,
     "metadata": {},
     "output_type": "execute_result"
    }
   ],
   "source": [
    "incumbent"
   ]
  }
 ],
 "metadata": {
  "kernelspec": {
   "display_name": "Python 3",
   "language": "python",
   "name": "python3"
  },
  "language_info": {
   "codemirror_mode": {
    "name": "ipython",
    "version": 3
   },
   "file_extension": ".py",
   "mimetype": "text/x-python",
   "name": "python",
   "nbconvert_exporter": "python",
   "pygments_lexer": "ipython3",
   "version": "3.7.2"
  }
 },
 "nbformat": 4,
 "nbformat_minor": 4
}
