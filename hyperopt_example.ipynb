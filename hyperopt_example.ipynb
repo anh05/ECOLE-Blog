{
 "cells": [
  {
   "cell_type": "code",
   "execution_count": 16,
   "metadata": {},
   "outputs": [],
   "source": [
    "from sklearn import datasets\n",
    "from sklearn.svm import SVC\n",
    "from sklearn.model_selection import cross_val_score\n",
    "from sklearn.preprocessing import StandardScaler\n",
    "from sklearn.ensemble  import RandomForestClassifier\n",
    "from hyperopt import fmin, tpe, hp, rand, STATUS_OK, Trials\n",
    "import warnings\n",
    "warnings.filterwarnings(\"ignore\")"
   ]
  },
  {
   "cell_type": "markdown",
   "metadata": {},
   "source": [
    "# Define Configuration Space"
   ]
  },
  {
   "cell_type": "code",
   "execution_count": 10,
   "metadata": {},
   "outputs": [],
   "source": [
    "#Define Search Space\n",
    "HPOspace = hp.choice('classifier_type', [\n",
    "    {\n",
    "        #Define Search Space for Support Vector Machine\n",
    "        'name': 'SVM',\n",
    "        'C': hp.uniform('C', 1e-2, 100),\n",
    "        'kernel': hp.choice('kernel', [\"linear\",\"rbf\", \"poly\", \"sigmoid\"]),\n",
    "        \"coef0\": hp.uniform('coef0', 0.0, 10.0),\n",
    "        \"degree\": hp.choice(\"degree\", range(2, 50)),\n",
    "        \"gamma\": hp.uniform('gamma',0, 20),\n",
    "    },\n",
    "    {\n",
    "        # Define Search Space for Random Forest\n",
    "        'name': 'RF',\n",
    "        'n_estimators': hp.choice(\"n_estimators\", range(5, 100)),\n",
    "        'criterion': hp.choice('criterion', [\"gini\", \"entropy\"]),\n",
    "        'max_depth': hp.choice(\"max_depth\", range(10, 200)),\n",
    "        'max_features': hp.choice('max_features',['auto', 'sqrt', 'log2'])\n",
    "        \n",
    "    },\n",
    "    ])"
   ]
  },
  {
   "cell_type": "markdown",
   "metadata": {},
   "source": [
    "# Objective Function"
   ]
  },
  {
   "cell_type": "code",
   "execution_count": 14,
   "metadata": {},
   "outputs": [],
   "source": [
    "iris = datasets.load_iris()\n",
    "X = iris.data\n",
    "y = iris.target\n",
    "\n",
    "def obj_func(params):\n",
    "    params = {k : params[k] for k in params if params[k]}\n",
    "    #print(params)\n",
    "    classifier = params['name']\n",
    "    params.pop(\"name\", None)    \n",
    "    #print(params)\n",
    "    clf = SVC()\n",
    "    if(classifier == 'SVM'):\n",
    "        clf = SVC(**params)\n",
    "    elif(classifier == 'RF'):\n",
    "        clf = RandomForestClassifier(**params)\n",
    "    mean= cross_val_score(clf, X, y).mean()\n",
    "    loss = 1 - mean\n",
    "    #print (mean)\n",
    "    return loss"
   ]
  },
  {
   "cell_type": "markdown",
   "metadata": {},
   "source": [
    "# Run Optimise"
   ]
  },
  {
   "cell_type": "code",
   "execution_count": 17,
   "metadata": {},
   "outputs": [
    {
     "name": "stdout",
     "output_type": "stream",
     "text": [
      "100%|██████████| 50/50 [00:13<00:00,  3.67trial/s, best loss: 0.019607843137254832]\n"
     ]
    }
   ],
   "source": [
    "#Capturing Info with Trials\n",
    "trials = Trials()\n",
    "best_candidate = fmin(obj_func,HPOspace,algo=tpe.suggest, max_evals=50, trials=trials)"
   ]
  }
 ],
 "metadata": {
  "kernelspec": {
   "display_name": "Python 3",
   "language": "python",
   "name": "python3"
  },
  "language_info": {
   "codemirror_mode": {
    "name": "ipython",
    "version": 3
   },
   "file_extension": ".py",
   "mimetype": "text/x-python",
   "name": "python",
   "nbconvert_exporter": "python",
   "pygments_lexer": "ipython3",
   "version": "3.8.3"
  }
 },
 "nbformat": 4,
 "nbformat_minor": 4
}
